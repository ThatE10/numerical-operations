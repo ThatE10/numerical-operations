{
 "cells": [
  {
   "cell_type": "code",
   "execution_count": 70,
   "id": "34b9b1ce",
   "metadata": {},
   "outputs": [],
   "source": [
    "def exterior_brackets(num,start):\n",
    "    bracket=0\n",
    "    a=start\n",
    "    b=0\n",
    "    for i, c in enumerate(num[start:]):\n",
    "        if(c=='{'):\n",
    "            bracket+=1\n",
    "        if(c=='}'):\n",
    "            bracket-=1\n",
    "        if(c=='}' and bracket <=0):\n",
    "            return i+start\n",
    "        \n",
    "class Number:\n",
    "    \n",
    "    \n",
    "    def __init__(self):\n",
    "        self.number = 0\n",
    "    def __init__(self,num):\n",
    "        #Expected inputs 2\\nroot\\1{3}\n",
    "        #Expected input \\sqrt[20]{2} = \\nroot[20]{2}\n",
    "        #Expected input 2\\sqrt{5}\n",
    "        #expected input \\sqrt{9}\n",
    "        #expected \\sqrt{100} = 10\n",
    "        #expected \\frac{3}{\\sqrt{4}} = 3/\\sqrt{4} \n",
    "        #expected 5/4\n",
    "        #sqrt(3) = sqrt{}\n",
    "        #\\pi^{4}\n",
    "        #3\n",
    "        \n",
    "        #parse first parse for fractions\n",
    "        \n",
    "        self.isIrrational = False\n",
    "        self.isRoot = False\n",
    "        self.degree = 1\n",
    "        self.expo = 1\n",
    "        self.myself=\"\"#this will be another number maybe shrug idk\n",
    "        \n",
    "        \n",
    "        if num[:len(\"\\\\frac{\")]==\"\\\\frac{\":\n",
    "            index_numerator = exterior_brackets(num,len(\"\\\\frac{\")+1)\n",
    "            numerator=num[len(\"\\\\frac{\"):index_numerator]\n",
    "            #uses a +1 to skip the }{ part of the terms!\n",
    "            index_denominator = exterior_brackets(num,index_numerator+1)\n",
    "            denominator = num[index_numerator+2:index_denominator]\n",
    "            print(numerator)\n",
    "            print(denominator)\n",
    "            #This is where it gets recursive!\n",
    "        ##############################################################3\n",
    "        #find the roots\n",
    "        #simple them\n",
    "        elif num[:len(\"\\\\nroot[\")]==\"\\\\nroot[\":\n",
    "            index_degree = num.find(\"]\")\n",
    "            index_root_element = exterior_brackets(num,index_degree+2)\n",
    "            print(num[len(\"\\\\nroot[\"):index_degree])\n",
    "            print(num[(index_degree+2):index_root_element])\n",
    "        \n",
    "        elif num[:len(\"\\\\sqrt{\")]==\"\\\\sqrt{\": \n",
    "            index_root_element = exterior_brackets(num,len(\"\\\\sqrt{\")+1)\n",
    "            print(num[len(\"\\\\sqrt{\"):index_root_element])\n",
    "        ######################################################\n",
    "        #check for the first few numbers!\n",
    "        elif (hasNumber(num) != 0):\n",
    "            last_index=hasNumber(num)\n",
    "            if num[last_index]==\".\":\n",
    "                last_decimal_index=hasNumber(num[last_index+1:])\n",
    "                print(\"decimal!\")\n",
    "            \n",
    "            \n",
    "            #if decimal?\n",
    "            #if int\n",
    "            \n",
    "    def simplify_root(self):\n",
    "        pass\n",
    "    def pow(self,degree):\n",
    "        pass\n",
    "    def __add__(self,Number2):\n",
    "        pass\n",
    "    def __multiply__(self,Number2):\n",
    "        pass\n",
    "        \n",
    "        \n",
    "class Fraction:\n",
    "    def __init__(self):\n",
    "        self.numerator=\"\"\n",
    "        self.denominator=\"\"\n",
    "    def __init__(self,numerator,denominator=1):\n",
    "        self.numerator=numerator\n",
    "        self.denominator=denominator"
   ]
  },
  {
   "cell_type": "code",
   "execution_count": 58,
   "id": "ab97679b",
   "metadata": {},
   "outputs": [
    {
     "name": "stdout",
     "output_type": "stream",
     "text": [
      "3\n",
      "\\sqrt{4}\n",
      "\n",
      "20\n",
      "2\n",
      "\n",
      "9\n"
     ]
    },
    {
     "data": {
      "text/plain": [
       "<__main__.Number at 0x2776aa0a700>"
      ]
     },
     "execution_count": 58,
     "metadata": {},
     "output_type": "execute_result"
    }
   ],
   "source": [
    "Number(\"\\\\frac{3}{\\\\sqrt{4}}\")\n",
    "print()\n",
    "Number(\"\\\\nroot[20]{2}\")\n",
    "print()\n",
    "Number(\"\\\\sqrt{9}\")"
   ]
  },
  {
   "cell_type": "code",
   "execution_count": 66,
   "id": "9468433a",
   "metadata": {},
   "outputs": [],
   "source": [
    "def hasNumber(num):\n",
    "    for i,c in enumerate(num):\n",
    "        if not c.isdigit():\n",
    "            return i\n",
    "    return len(num)\n",
    "def isDecimal"
   ]
  },
  {
   "cell_type": "code",
   "execution_count": 68,
   "id": "f9462f5c",
   "metadata": {},
   "outputs": [
    {
     "data": {
      "text/plain": [
       "1"
      ]
     },
     "execution_count": 68,
     "metadata": {},
     "output_type": "execute_result"
    }
   ],
   "source": [
    "hasNumber(\"0\")"
   ]
  },
  {
   "cell_type": "code",
   "execution_count": null,
   "id": "c6f3b7da",
   "metadata": {},
   "outputs": [],
   "source": []
  }
 ],
 "metadata": {
  "kernelspec": {
   "display_name": "Python 3 (ipykernel)",
   "language": "python",
   "name": "python3"
  },
  "language_info": {
   "codemirror_mode": {
    "name": "ipython",
    "version": 3
   },
   "file_extension": ".py",
   "mimetype": "text/x-python",
   "name": "python",
   "nbconvert_exporter": "python",
   "pygments_lexer": "ipython3",
   "version": "3.9.13"
  }
 },
 "nbformat": 4,
 "nbformat_minor": 5
}
